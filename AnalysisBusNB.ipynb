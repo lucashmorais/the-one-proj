{
 "cells": [
  {
   "cell_type": "code",
   "execution_count": null,
   "metadata": {
    "collapsed": true
   },
   "outputs": [],
   "source": [
    "import re\n",
    "from math import log\n",
    "from functools import total_ordering\n",
    "\n",
    "@total_ordering\n",
    "class TQuality:        \n",
    "    def __init__(self, del_prob, avg_latency, ovh_ratio, identifier=\"\"):\n",
    "        self.p =   int(del_prob * 20)\n",
    "        self.l = - int(log(avg_latency) / log(2))\n",
    "        self.o = - int(ovh_ratio)\n",
    "        self.name = identifier\n",
    "    \n",
    "    # Method for comparing two transmission quality descriptors.\n",
    "    # \n",
    "    # @otherTQ: Transmission quality descriptor to compare with.\n",
    "    # @return:  Positive, if this object describes better transmission quality;\n",
    "    #           Negative, if this object describes worse transmission quality;\n",
    "    #           Zero, if both objects correspond to equivalent transmission quality.\n",
    "    def compareTo(self, otherTQ):\n",
    "        if (self.p > otherTQ.p):\n",
    "            return 1;\n",
    "        elif (self.p == otherTQ.p and self.l > otherTQ.l):\n",
    "            return 1;\n",
    "        elif (self.p == otherTQ.p and self.l == otherTQ.l and self.o > otherTQ.o):\n",
    "            return 1;\n",
    "        elif (self.p == otherTQ.p and self.l == otherTQ.l and self.o == otherTQ.o):\n",
    "            return 0;\n",
    "        else:\n",
    "            return -1;\n",
    "        \n",
    "    def __gt__(self, otherTQ):\n",
    "        return self.compareTo(otherTQ) > 0\n",
    "        \n",
    "    def __eq__(self, otherTQ):\n",
    "        return self.compareTo(otherTQ) == 0\n",
    "    \n",
    "    def simulation_parameters(self):\n",
    "        params = re.split(\"-|_\", self.name)\n",
    "        return params[4] + \"|\" + params[5] + \"|\" + params[6] + \"|\" + params[7]\n",
    "    \n",
    "    def quality_metrics(self):\n",
    "        return str(self.p) + \"|\" + str(self.l) + \"|\" + str(self.o)"
   ]
  },
  {
   "cell_type": "code",
   "execution_count": null,
   "metadata": {},
   "outputs": [],
   "source": [
    "from pprint import pprint\n",
    "\n",
    "a = TQuality(1,1,1)\n",
    "pprint(vars(a))\n",
    "print a.compareTo(TQuality(1,0.1,1))"
   ]
  },
  {
   "cell_type": "code",
   "execution_count": null,
   "metadata": {
    "collapsed": true
   },
   "outputs": [],
   "source": [
    "import glob\n",
    "\n",
    "rel_file_paths = glob.glob(\"final_comparison_bus/*.txt\")"
   ]
  },
  {
   "cell_type": "code",
   "execution_count": null,
   "metadata": {},
   "outputs": [],
   "source": [
    "import re\n",
    "\n",
    "sample_path = rel_file_paths[0]\n",
    "\n",
    "print re.split(\"-|_\", sample_path)"
   ]
  },
  {
   "cell_type": "markdown",
   "metadata": {},
   "source": [
    "## TODO\n",
    "* We want to sort the scenarios according to transmission quality.\n",
    "    * Find a way for reading quality information from the MessageStatsReport's\n",
    "    * Fill a vector with quality information for all tested scenarios\n",
    "    * Sort that vector using compareTo"
   ]
  },
  {
   "cell_type": "code",
   "execution_count": null,
   "metadata": {
    "collapsed": true
   },
   "outputs": [],
   "source": [
    "def getTransmissionQualityFromReport(report_path):\n",
    "    with open(report_path) as f:\n",
    "        for line in f:\n",
    "            split = line.split()\n",
    "            if \"delivery_prob\" in line:\n",
    "                p = float(split[1])\n",
    "            elif \"latency_avg\" in line:\n",
    "                if \"NaN\" in line:\n",
    "                    l = 1\n",
    "                else:\n",
    "                    l = float(split[1])\n",
    "            elif \"overhead_ratio\" in line:\n",
    "                if \"NaN\" in line:\n",
    "                    o = 1\n",
    "                else:\n",
    "                    o = float(split[1])\n",
    "\n",
    "    return TQuality(p, l, o, report_path)"
   ]
  },
  {
   "cell_type": "code",
   "execution_count": null,
   "metadata": {},
   "outputs": [],
   "source": [
    "b = getTransmissionQualityFromReport(sample_path)\n",
    "pprint(vars(b))"
   ]
  },
  {
   "cell_type": "code",
   "execution_count": null,
   "metadata": {},
   "outputs": [],
   "source": [
    "for report_path in rel_file_paths:\n",
    "    pprint(vars(getTransmissionQualityFromReport(report_path)))"
   ]
  },
  {
   "cell_type": "code",
   "execution_count": null,
   "metadata": {
    "collapsed": true
   },
   "outputs": [],
   "source": [
    "TQualityArray = map(getTransmissionQualityFromReport, rel_file_paths)\n",
    "sortedTQualityArray = sorted(TQualityArray, reverse=True)"
   ]
  },
  {
   "cell_type": "code",
   "execution_count": null,
   "metadata": {},
   "outputs": [],
   "source": [
    "map(lambda q: vars(q), TQualityArray)"
   ]
  },
  {
   "cell_type": "code",
   "execution_count": null,
   "metadata": {},
   "outputs": [],
   "source": [
    "map(lambda q: vars(q), sortedTQualityArray)"
   ]
  },
  {
   "cell_type": "code",
   "execution_count": null,
   "metadata": {
    "collapsed": true
   },
   "outputs": [],
   "source": [
    "sorted_report_paths = map(lambda q: q.name, sortedTQualityArray)"
   ]
  },
  {
   "cell_type": "code",
   "execution_count": null,
   "metadata": {},
   "outputs": [],
   "source": [
    "result_array = filter(lambda s: \"Passive\" not in s, map(lambda q: q.simulation_parameters() + \"|\" + q.quality_metrics(), sortedTQualityArray))"
   ]
  },
  {
   "cell_type": "code",
   "execution_count": null,
   "metadata": {},
   "outputs": [],
   "source": [
    "print \"Number of evaluated scenarios: %d\" % len(result_array)\n",
    "\n",
    "for (idx, key) in enumerate(result_array):\n",
    "    print str(idx) + \"|\" + key"
   ]
  },
  {
   "cell_type": "code",
   "execution_count": 29,
   "metadata": {},
   "outputs": [
    {
     "data": {
      "text/plain": [
       "['EpidemicOracleRouter|128|64M|128k|19|-6|-6180',\n",
       " 'EpidemicOracleRouter|128|64M|1M|19|-6|-6180',\n",
       " 'EpidemicRouter|128|1M|1M|2|-8|-6079',\n",
       " 'EpidemicRouter|128|1M|128k|2|-8|-3504',\n",
       " 'EpidemicOracleRouter|128|1M|128k|4|-7|-1584',\n",
       " 'EpidemicOracleRouter|128|1M|1M|4|-7|-1584',\n",
       " 'EpidemicOracleRouter|64|64M|128k|18|-7|-695',\n",
       " 'EpidemicOracleRouter|64|64M|1M|18|-7|-695',\n",
       " 'EpidemicOracleRouter|128|2048M|1M|19|-6|-673',\n",
       " 'EpidemicOracleRouter|128|2048M|128k|19|-6|-673',\n",
       " 'EpidemicRouter|128|64M|1M|17|-7|-527',\n",
       " 'EpidemicRouter|64|1M|1M|2|-7|-520',\n",
       " 'EpidemicRouter|128|2048M|1M|18|-7|-446',\n",
       " 'EpidemicRouter|128|2048M|128k|17|-8|-406',\n",
       " 'EpidemicRouter|128|64M|128k|17|-8|-405',\n",
       " 'EpidemicOracleRouter|64|2048M|1M|18|-7|-292',\n",
       " 'EpidemicRouter|64|1M|128k|3|-8|-292',\n",
       " 'EpidemicOracleRouter|64|2048M|128k|18|-7|-292',\n",
       " 'EpidemicOracleRouter|64|1M|128k|4|-7|-264',\n",
       " 'EpidemicOracleRouter|64|1M|1M|4|-7|-264',\n",
       " 'EpidemicRouter|64|64M|1M|17|-7|-235',\n",
       " 'EpidemicRouter|64|2048M|1M|18|-7|-206',\n",
       " 'EpidemicRouter|64|64M|128k|17|-8|-184',\n",
       " 'EpidemicRouter|64|2048M|128k|17|-8|-179',\n",
       " 'EpidemicOracleRouter|32|64M|1M|18|-8|-121',\n",
       " 'EpidemicOracleRouter|32|64M|128k|18|-8|-121',\n",
       " 'EpidemicOracleRouter|32|2048M|128k|18|-8|-117',\n",
       " 'EpidemicOracleRouter|32|2048M|1M|18|-8|-117',\n",
       " 'EpidemicRouter|32|1M|128k|2|-8|-112',\n",
       " 'EpidemicRouter|32|1M|1M|3|-8|-110',\n",
       " 'EpidemicRouter|32|64M|1M|17|-8|-95',\n",
       " 'EpidemicOracleRouter|32|1M|128k|3|-7|-91',\n",
       " 'EpidemicRouter|32|2048M|1M|17|-8|-91',\n",
       " 'EpidemicOracleRouter|32|1M|1M|3|-7|-91',\n",
       " 'EpidemicRouter|32|64M|128k|16|-8|-79',\n",
       " 'EpidemicRouter|32|2048M|128k|16|-8|-79',\n",
       " 'DirectDeliveryRouter|64|2048M|128k|9|-9|0',\n",
       " 'DirectDeliveryRouter|64|1M|1M|5|-7|0',\n",
       " 'DirectDeliveryRouter|64|64M|128k|9|-9|0',\n",
       " 'DirectDeliveryRouter|32|1M|1M|4|-7|0',\n",
       " 'DirectDeliveryRouter|128|2048M|128k|5|-8|0',\n",
       " 'DirectDeliveryRouter|128|1M|128k|3|-8|0',\n",
       " 'DirectDeliveryRouter|128|1M|1M|3|-8|0',\n",
       " 'DirectDeliveryRouter|32|1M|128k|4|-7|0',\n",
       " 'DirectDeliveryRouter|128|64M|128k|5|-8|0',\n",
       " 'DirectDeliveryRouter|32|2048M|128k|7|-8|0',\n",
       " 'DirectDeliveryRouter|64|64M|1M|9|-9|0',\n",
       " 'DirectDeliveryRouter|64|2048M|1M|9|-9|0',\n",
       " 'DirectDeliveryRouter|64|1M|128k|5|-8|0',\n",
       " 'DirectDeliveryRouter|32|64M|1M|7|-8|0',\n",
       " 'DirectDeliveryRouter|32|64M|128k|7|-8|0',\n",
       " 'DirectDeliveryRouter|128|2048M|1M|6|-8|0',\n",
       " 'DirectDeliveryRouter|32|2048M|1M|7|-8|0',\n",
       " 'DirectDeliveryRouter|128|64M|1M|6|-8|0']"
      ]
     },
     "execution_count": 29,
     "metadata": {},
     "output_type": "execute_result"
    }
   ],
   "source": [
    "map(lambda q: q.simulation_parameters() + \"|\" + q.quality_metrics(), sorted(TQualityArray, key=(lambda q: q.o)))"
   ]
  },
  {
   "cell_type": "code",
   "execution_count": null,
   "metadata": {
    "collapsed": true
   },
   "outputs": [],
   "source": [
    "def print_file(file_path):\n",
    "    with open(file_path) as f:\n",
    "        for line in f:\n",
    "            print line,"
   ]
  }
 ],
 "metadata": {
  "kernelspec": {
   "display_name": "Python 2",
   "language": "python",
   "name": "python2"
  },
  "language_info": {
   "codemirror_mode": {
    "name": "ipython",
    "version": 2
   },
   "file_extension": ".py",
   "mimetype": "text/x-python",
   "name": "python",
   "nbconvert_exporter": "python",
   "pygments_lexer": "ipython2",
   "version": "2.7.12+"
  }
 },
 "nbformat": 4,
 "nbformat_minor": 2
}
