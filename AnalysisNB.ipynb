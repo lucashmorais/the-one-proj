{
 "cells": [
  {
   "cell_type": "code",
   "execution_count": null,
   "metadata": {
    "collapsed": true
   },
   "outputs": [],
   "source": [
    "import re\n",
    "from math import log\n",
    "from functools import total_ordering\n",
    "\n",
    "@total_ordering\n",
    "class TQuality:        \n",
    "    def __init__(self, del_prob, avg_latency, ovh_ratio, identifier=\"\"):\n",
    "        self.p =   int(del_prob * 20)\n",
    "        self.l = - int(log(avg_latency) / log(2))\n",
    "        self.o = - int(ovh_ratio)\n",
    "        self.name = identifier\n",
    "    \n",
    "    # Method for comparing two transmission quality descriptors.\n",
    "    # \n",
    "    # @otherTQ: Transmission quality descriptor to compare with.\n",
    "    # @return:  Positive, if this object describes better transmission quality;\n",
    "    #           Negative, if this object describes worse transmission quality;\n",
    "    #           Zero, if both objects correspond to equivalent transmission quality.\n",
    "    def compareTo(self, otherTQ):\n",
    "        if (self.p > otherTQ.p):\n",
    "            return 1;\n",
    "        elif (self.p == otherTQ.p and self.l > otherTQ.l):\n",
    "            return 1;\n",
    "        elif (self.p == otherTQ.p and self.l == otherTQ.l and self.o > otherTQ.o):\n",
    "            return 1;\n",
    "        elif (self.p == otherTQ.p and self.l == otherTQ.l and self.o == otherTQ.o):\n",
    "            return 0;\n",
    "        else:\n",
    "            return -1;\n",
    "        \n",
    "    def __gt__(self, otherTQ):\n",
    "        return self.compareTo(otherTQ) > 0\n",
    "        \n",
    "    def __eq__(self, otherTQ):\n",
    "        return self.compareTo(otherTQ) == 0\n",
    "    \n",
    "    def simulation_parameters(self):\n",
    "        params = re.split(\"-|_\", self.name)\n",
    "        return params[2] + \"|\" + params[3] + \"|\" + params[4] + \"|\" + params[5]\n",
    "    \n",
    "    def quality_metrics(self):\n",
    "        return str(self.p) + \"|\" + str(self.l) + \"|\" + str(self.o)"
   ]
  },
  {
   "cell_type": "code",
   "execution_count": null,
   "metadata": {},
   "outputs": [],
   "source": [
    "from pprint import pprint\n",
    "\n",
    "a = TQuality(1,1,1)\n",
    "pprint(vars(a))\n",
    "print a.compareTo(TQuality(1,0.1,1))"
   ]
  },
  {
   "cell_type": "code",
   "execution_count": null,
   "metadata": {
    "collapsed": true
   },
   "outputs": [],
   "source": [
    "import glob\n",
    "\n",
    "rel_file_paths = glob.glob(\"final_comparison/*.txt\")"
   ]
  },
  {
   "cell_type": "code",
   "execution_count": null,
   "metadata": {},
   "outputs": [],
   "source": [
    "import re\n",
    "\n",
    "sample_path = rel_file_paths[0]\n",
    "\n",
    "print re.split(\"-|_\", sample_path)"
   ]
  },
  {
   "cell_type": "markdown",
   "metadata": {},
   "source": [
    "## TODO\n",
    "* We want to sort the scenarios according to transmission quality.\n",
    "    * Find a way for reading quality information from the MessageStatsReport's\n",
    "    * Fill a vector with quality information for all tested scenarios\n",
    "    * Sort that vector using compareTo"
   ]
  },
  {
   "cell_type": "code",
   "execution_count": null,
   "metadata": {
    "collapsed": true
   },
   "outputs": [],
   "source": [
    "def getTransmissionQualityFromReport(report_path):\n",
    "    with open(report_path) as f:\n",
    "        for line in f:\n",
    "            split = line.split()\n",
    "            if \"delivery_prob\" in line:\n",
    "                p = float(split[1])\n",
    "            elif \"latency_avg\" in line:\n",
    "                if \"NaN\" in line:\n",
    "                    l = 1\n",
    "                else:\n",
    "                    l = float(split[1])\n",
    "            elif \"overhead_ratio\" in line:\n",
    "                if \"NaN\" in line:\n",
    "                    o = 1\n",
    "                else:\n",
    "                    o = float(split[1])\n",
    "\n",
    "    return TQuality(p, l, o, report_path)"
   ]
  },
  {
   "cell_type": "code",
   "execution_count": null,
   "metadata": {},
   "outputs": [],
   "source": [
    "b = getTransmissionQualityFromReport(sample_path)\n",
    "pprint(vars(b))"
   ]
  },
  {
   "cell_type": "code",
   "execution_count": null,
   "metadata": {},
   "outputs": [],
   "source": [
    "for report_path in rel_file_paths:\n",
    "    pprint(vars(getTransmissionQualityFromReport(report_path)))"
   ]
  },
  {
   "cell_type": "code",
   "execution_count": null,
   "metadata": {
    "collapsed": true
   },
   "outputs": [],
   "source": [
    "TQualityArray = map(getTransmissionQualityFromReport, rel_file_paths)\n",
    "sortedTQualityArray = sorted(TQualityArray, reverse=True)"
   ]
  },
  {
   "cell_type": "code",
   "execution_count": null,
   "metadata": {},
   "outputs": [],
   "source": [
    "map(lambda q: vars(q), TQualityArray)"
   ]
  },
  {
   "cell_type": "code",
   "execution_count": null,
   "metadata": {},
   "outputs": [],
   "source": [
    "map(lambda q: vars(q), sortedTQualityArray)"
   ]
  },
  {
   "cell_type": "code",
   "execution_count": null,
   "metadata": {
    "collapsed": true
   },
   "outputs": [],
   "source": [
    "sorted_report_paths = map(lambda q: q.name, sortedTQualityArray)"
   ]
  },
  {
   "cell_type": "code",
   "execution_count": null,
   "metadata": {},
   "outputs": [],
   "source": [
    "result_array = filter(lambda s: \"Passive\" not in s, map(lambda q: q.simulation_parameters() + \"|\" + q.quality_metrics(), sortedTQualityArray))"
   ]
  },
  {
   "cell_type": "code",
   "execution_count": null,
   "metadata": {},
   "outputs": [],
   "source": [
    "print \"Number of evaluated scenarios: %d\" % len(result_array)\n",
    "\n",
    "for (idx, key) in enumerate(result_array):\n",
    "    print str(idx) + \"|\" + key"
   ]
  },
  {
   "cell_type": "code",
   "execution_count": 29,
   "metadata": {},
   "outputs": [
    {
     "data": {
      "text/plain": [
       "['EpidemicRouter|2048|1M|1M|1|-9|-60068',\n",
       " 'EpidemicOracleRouter|2048|1M|1M|0|-7|-52720',\n",
       " 'EpidemicOracleRouter|2048|1M|128k|0|-7|-52720',\n",
       " 'EpidemicRouter|2048|1M|128k|0|-9|-40119',\n",
       " 'EpidemicOracleRouter|2048|64M|128k|20|-5|-37272',\n",
       " 'EpidemicOracleRouter|2048|64M|1M|20|-5|-37272',\n",
       " 'EpidemicOracleRouter|2048|2048M|128k|20|-5|-3005',\n",
       " 'EpidemicOracleRouter|2048|2048M|1M|20|-5|-3005',\n",
       " 'EpidemicRouter|2048|64M|1M|18|-7|-2843',\n",
       " 'EpidemicRouter|2048|2048M|1M|18|-7|-2161',\n",
       " 'EpidemicRouter|2048|2048M|128k|14|-9|-2042',\n",
       " 'EpidemicRouter|2048|64M|128k|14|-9|-2042',\n",
       " 'EpidemicRouter|256|1M|128k|0|-9|-952',\n",
       " 'EpidemicRouter|256|1M|1M|2|-9|-532',\n",
       " 'EpidemicOracleRouter|256|1M|128k|2|-9|-376',\n",
       " 'EpidemicOracleRouter|256|1M|1M|2|-9|-376',\n",
       " 'EpidemicOracleRouter|256|64M|128k|16|-8|-363',\n",
       " 'EpidemicOracleRouter|256|64M|1M|16|-8|-363',\n",
       " 'EpidemicOracleRouter|256|2048M|128k|16|-8|-353',\n",
       " 'EpidemicOracleRouter|256|2048M|1M|16|-8|-353',\n",
       " 'EpidemicRouter|256|64M|1M|16|-8|-253',\n",
       " 'EpidemicRouter|256|2048M|1M|16|-8|-252',\n",
       " 'EpidemicRouter|256|64M|128k|9|-9|-174',\n",
       " 'EpidemicRouter|256|2048M|128k|9|-9|-174',\n",
       " 'EpidemicRouter|32|1M|128k|0|-8|-81',\n",
       " 'EpidemicOracleRouter|32|1M|128k|0|-7|-39',\n",
       " 'EpidemicOracleRouter|32|1M|1M|0|-7|-39',\n",
       " 'EpidemicRouter|32|1M|1M|0|-8|-36',\n",
       " 'SprayAndWaitRouter|256|1M|128k|2|-9|-33',\n",
       " 'SprayAndWaitRouter|32|1M|128k|0|-8|-33',\n",
       " 'EpidemicOracleRouter|32|64M|1M|7|-10|-29',\n",
       " 'EpidemicOracleRouter|32|2048M|1M|7|-10|-29',\n",
       " 'EpidemicOracleRouter|32|64M|128k|7|-10|-29',\n",
       " 'EpidemicOracleRouter|32|2048M|128k|7|-10|-29',\n",
       " 'SprayAndWaitRouter|2048|1M|128k|4|-10|-23',\n",
       " 'SprayAndWaitRouter|2048|64M|128k|5|-10|-19',\n",
       " 'SprayAndWaitRouter|2048|2048M|128k|5|-10|-19',\n",
       " 'SprayAndWaitRouter|2048|1M|1M|6|-9|-15',\n",
       " 'SprayAndWaitRouter|2048|2048M|1M|6|-9|-14',\n",
       " 'SprayAndWaitRouter|256|64M|128k|6|-9|-14',\n",
       " 'SprayAndWaitRouter|32|1M|1M|1|-8|-14',\n",
       " 'SprayAndWaitRouter|256|2048M|128k|6|-9|-14',\n",
       " 'SprayAndWaitRouter|2048|64M|1M|6|-9|-14',\n",
       " 'SprayAndWaitRouter|256|1M|1M|7|-9|-13',\n",
       " 'EpidemicRouter|32|64M|1M|6|-10|-12',\n",
       " 'EpidemicRouter|32|2048M|1M|6|-10|-12',\n",
       " 'SprayAndWaitRouter|256|64M|1M|10|-9|-9',\n",
       " 'SprayAndWaitRouter|32|64M|1M|6|-10|-9',\n",
       " 'SprayAndWaitRouter|256|2048M|1M|10|-9|-9',\n",
       " 'SprayAndWaitRouter|32|2048M|1M|6|-10|-9',\n",
       " 'EpidemicRouter|32|64M|128k|3|-10|-7',\n",
       " 'SprayAndWaitRouter|32|2048M|128k|3|-10|-7',\n",
       " 'SprayAndWaitRouter|32|64M|128k|3|-10|-7',\n",
       " 'EpidemicRouter|32|2048M|128k|3|-10|-7',\n",
       " 'PassiveRouter|32|2048M|1M|0|0|-1',\n",
       " 'PassiveRouter|2048|2048M|1M|0|0|-1',\n",
       " 'PassiveRouter|32|1M|128k|0|0|-1',\n",
       " 'PassiveRouter|32|1M|1M|0|0|-1',\n",
       " 'PassiveRouter|32|64M|1M|0|0|-1',\n",
       " 'PassiveRouter|2048|64M|1M|0|0|-1',\n",
       " 'PassiveRouter|2048|2048M|128k|0|0|-1',\n",
       " 'PassiveRouter|256|64M|1M|0|0|-1',\n",
       " 'PassiveRouter|256|64M|128k|0|0|-1',\n",
       " 'PassiveRouter|32|2048M|128k|0|0|-1',\n",
       " 'PassiveRouter|256|2048M|128k|0|0|-1',\n",
       " 'PassiveRouter|256|2048M|1M|0|0|-1',\n",
       " 'PassiveRouter|256|1M|1M|0|0|-1',\n",
       " 'PassiveRouter|2048|1M|128k|0|0|-1',\n",
       " 'PassiveRouter|32|64M|128k|0|0|-1',\n",
       " 'PassiveRouter|2048|1M|1M|0|0|-1',\n",
       " 'PassiveRouter|2048|64M|128k|0|0|-1',\n",
       " 'PassiveRouter|256|1M|128k|0|0|-1',\n",
       " 'DirectDeliveryRouter|2048|64M|128k|2|-9|0',\n",
       " 'DirectDeliveryRouter|32|2048M|1M|3|-9|0',\n",
       " 'DirectDeliveryRouter|32|2048M|128k|1|-10|0',\n",
       " 'DirectDeliveryRouter|256|1M|1M|2|-9|0',\n",
       " 'DirectDeliveryRouter|256|2048M|1M|2|-9|0',\n",
       " 'DirectDeliveryRouter|2048|2048M|1M|3|-9|0',\n",
       " 'DirectDeliveryRouter|2048|1M|128k|2|-9|0',\n",
       " 'DirectDeliveryRouter|32|64M|128k|1|-10|0',\n",
       " 'DirectDeliveryRouter|256|2048M|128k|1|-9|0',\n",
       " 'DirectDeliveryRouter|256|64M|1M|2|-9|0',\n",
       " 'DirectDeliveryRouter|256|1M|128k|1|-9|0',\n",
       " 'DirectDeliveryRouter|32|1M|1M|1|-7|0',\n",
       " 'DirectDeliveryRouter|256|64M|128k|1|-9|0',\n",
       " 'DirectDeliveryRouter|32|1M|128k|0|-8|0',\n",
       " 'DirectDeliveryRouter|32|64M|1M|3|-9|0',\n",
       " 'DirectDeliveryRouter|2048|1M|1M|3|-9|0',\n",
       " 'DirectDeliveryRouter|2048|64M|1M|3|-9|0',\n",
       " 'DirectDeliveryRouter|2048|2048M|128k|2|-9|0']"
      ]
     },
     "execution_count": 29,
     "metadata": {},
     "output_type": "execute_result"
    }
   ],
   "source": [
    "map(lambda q: q.simulation_parameters() + \"|\" + q.quality_metrics(), sorted(TQualityArray, key=(lambda q: q.o)))"
   ]
  },
  {
   "cell_type": "code",
   "execution_count": null,
   "metadata": {
    "collapsed": true
   },
   "outputs": [],
   "source": [
    "def print_file(file_path):\n",
    "    with open(file_path) as f:\n",
    "        for line in f:\n",
    "            print line,"
   ]
  }
 ],
 "metadata": {
  "kernelspec": {
   "display_name": "Python 2",
   "language": "python",
   "name": "python2"
  },
  "language_info": {
   "codemirror_mode": {
    "name": "ipython",
    "version": 2
   },
   "file_extension": ".py",
   "mimetype": "text/x-python",
   "name": "python",
   "nbconvert_exporter": "python",
   "pygments_lexer": "ipython2",
   "version": "2.7.12+"
  }
 },
 "nbformat": 4,
 "nbformat_minor": 2
}
